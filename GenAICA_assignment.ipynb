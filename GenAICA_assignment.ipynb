{
  "nbformat": 4,
  "nbformat_minor": 0,
  "metadata": {
    "colab": {
      "provenance": []
    },
    "kernelspec": {
      "name": "python3",
      "display_name": "Python 3"
    },
    "language_info": {
      "name": "python"
    }
  },
  "cells": [
    {
      "cell_type": "markdown",
      "source": [
        "# **Symptom Data Parser and Visualizer**"
      ],
      "metadata": {
        "id": "vK5lwjvHbrqE"
      }
    },
    {
      "cell_type": "markdown",
      "source": [
        "Step 1: Create a Parser Program\n",
        "This program will:\n",
        "\n",
        "Read the dataset from  file (dataset1.csv).\n",
        "Create a dictionary of symptoms and store it in memory."
      ],
      "metadata": {
        "id": "lDnZJW2UbhB7"
      }
    },
    {
      "cell_type": "code",
      "source": [
        "from google.colab import files\n",
        "\n",
        "\n",
        "uploaded = files.upload()\n"
      ],
      "metadata": {
        "colab": {
          "base_uri": "https://localhost:8080/",
          "height": 73
        },
        "id": "E2fOI-eCbvOW",
        "outputId": "2ae96093-d3b6-4abd-ccb3-aa649ccf472e"
      },
      "execution_count": 6,
      "outputs": [
        {
          "output_type": "display_data",
          "data": {
            "text/plain": [
              "<IPython.core.display.HTML object>"
            ],
            "text/html": [
              "\n",
              "     <input type=\"file\" id=\"files-71817d91-aadb-4ded-b4ad-ebe64fa8459c\" name=\"files[]\" multiple disabled\n",
              "        style=\"border:none\" />\n",
              "     <output id=\"result-71817d91-aadb-4ded-b4ad-ebe64fa8459c\">\n",
              "      Upload widget is only available when the cell has been executed in the\n",
              "      current browser session. Please rerun this cell to enable.\n",
              "      </output>\n",
              "      <script>// Copyright 2017 Google LLC\n",
              "//\n",
              "// Licensed under the Apache License, Version 2.0 (the \"License\");\n",
              "// you may not use this file except in compliance with the License.\n",
              "// You may obtain a copy of the License at\n",
              "//\n",
              "//      http://www.apache.org/licenses/LICENSE-2.0\n",
              "//\n",
              "// Unless required by applicable law or agreed to in writing, software\n",
              "// distributed under the License is distributed on an \"AS IS\" BASIS,\n",
              "// WITHOUT WARRANTIES OR CONDITIONS OF ANY KIND, either express or implied.\n",
              "// See the License for the specific language governing permissions and\n",
              "// limitations under the License.\n",
              "\n",
              "/**\n",
              " * @fileoverview Helpers for google.colab Python module.\n",
              " */\n",
              "(function(scope) {\n",
              "function span(text, styleAttributes = {}) {\n",
              "  const element = document.createElement('span');\n",
              "  element.textContent = text;\n",
              "  for (const key of Object.keys(styleAttributes)) {\n",
              "    element.style[key] = styleAttributes[key];\n",
              "  }\n",
              "  return element;\n",
              "}\n",
              "\n",
              "// Max number of bytes which will be uploaded at a time.\n",
              "const MAX_PAYLOAD_SIZE = 100 * 1024;\n",
              "\n",
              "function _uploadFiles(inputId, outputId) {\n",
              "  const steps = uploadFilesStep(inputId, outputId);\n",
              "  const outputElement = document.getElementById(outputId);\n",
              "  // Cache steps on the outputElement to make it available for the next call\n",
              "  // to uploadFilesContinue from Python.\n",
              "  outputElement.steps = steps;\n",
              "\n",
              "  return _uploadFilesContinue(outputId);\n",
              "}\n",
              "\n",
              "// This is roughly an async generator (not supported in the browser yet),\n",
              "// where there are multiple asynchronous steps and the Python side is going\n",
              "// to poll for completion of each step.\n",
              "// This uses a Promise to block the python side on completion of each step,\n",
              "// then passes the result of the previous step as the input to the next step.\n",
              "function _uploadFilesContinue(outputId) {\n",
              "  const outputElement = document.getElementById(outputId);\n",
              "  const steps = outputElement.steps;\n",
              "\n",
              "  const next = steps.next(outputElement.lastPromiseValue);\n",
              "  return Promise.resolve(next.value.promise).then((value) => {\n",
              "    // Cache the last promise value to make it available to the next\n",
              "    // step of the generator.\n",
              "    outputElement.lastPromiseValue = value;\n",
              "    return next.value.response;\n",
              "  });\n",
              "}\n",
              "\n",
              "/**\n",
              " * Generator function which is called between each async step of the upload\n",
              " * process.\n",
              " * @param {string} inputId Element ID of the input file picker element.\n",
              " * @param {string} outputId Element ID of the output display.\n",
              " * @return {!Iterable<!Object>} Iterable of next steps.\n",
              " */\n",
              "function* uploadFilesStep(inputId, outputId) {\n",
              "  const inputElement = document.getElementById(inputId);\n",
              "  inputElement.disabled = false;\n",
              "\n",
              "  const outputElement = document.getElementById(outputId);\n",
              "  outputElement.innerHTML = '';\n",
              "\n",
              "  const pickedPromise = new Promise((resolve) => {\n",
              "    inputElement.addEventListener('change', (e) => {\n",
              "      resolve(e.target.files);\n",
              "    });\n",
              "  });\n",
              "\n",
              "  const cancel = document.createElement('button');\n",
              "  inputElement.parentElement.appendChild(cancel);\n",
              "  cancel.textContent = 'Cancel upload';\n",
              "  const cancelPromise = new Promise((resolve) => {\n",
              "    cancel.onclick = () => {\n",
              "      resolve(null);\n",
              "    };\n",
              "  });\n",
              "\n",
              "  // Wait for the user to pick the files.\n",
              "  const files = yield {\n",
              "    promise: Promise.race([pickedPromise, cancelPromise]),\n",
              "    response: {\n",
              "      action: 'starting',\n",
              "    }\n",
              "  };\n",
              "\n",
              "  cancel.remove();\n",
              "\n",
              "  // Disable the input element since further picks are not allowed.\n",
              "  inputElement.disabled = true;\n",
              "\n",
              "  if (!files) {\n",
              "    return {\n",
              "      response: {\n",
              "        action: 'complete',\n",
              "      }\n",
              "    };\n",
              "  }\n",
              "\n",
              "  for (const file of files) {\n",
              "    const li = document.createElement('li');\n",
              "    li.append(span(file.name, {fontWeight: 'bold'}));\n",
              "    li.append(span(\n",
              "        `(${file.type || 'n/a'}) - ${file.size} bytes, ` +\n",
              "        `last modified: ${\n",
              "            file.lastModifiedDate ? file.lastModifiedDate.toLocaleDateString() :\n",
              "                                    'n/a'} - `));\n",
              "    const percent = span('0% done');\n",
              "    li.appendChild(percent);\n",
              "\n",
              "    outputElement.appendChild(li);\n",
              "\n",
              "    const fileDataPromise = new Promise((resolve) => {\n",
              "      const reader = new FileReader();\n",
              "      reader.onload = (e) => {\n",
              "        resolve(e.target.result);\n",
              "      };\n",
              "      reader.readAsArrayBuffer(file);\n",
              "    });\n",
              "    // Wait for the data to be ready.\n",
              "    let fileData = yield {\n",
              "      promise: fileDataPromise,\n",
              "      response: {\n",
              "        action: 'continue',\n",
              "      }\n",
              "    };\n",
              "\n",
              "    // Use a chunked sending to avoid message size limits. See b/62115660.\n",
              "    let position = 0;\n",
              "    do {\n",
              "      const length = Math.min(fileData.byteLength - position, MAX_PAYLOAD_SIZE);\n",
              "      const chunk = new Uint8Array(fileData, position, length);\n",
              "      position += length;\n",
              "\n",
              "      const base64 = btoa(String.fromCharCode.apply(null, chunk));\n",
              "      yield {\n",
              "        response: {\n",
              "          action: 'append',\n",
              "          file: file.name,\n",
              "          data: base64,\n",
              "        },\n",
              "      };\n",
              "\n",
              "      let percentDone = fileData.byteLength === 0 ?\n",
              "          100 :\n",
              "          Math.round((position / fileData.byteLength) * 100);\n",
              "      percent.textContent = `${percentDone}% done`;\n",
              "\n",
              "    } while (position < fileData.byteLength);\n",
              "  }\n",
              "\n",
              "  // All done.\n",
              "  yield {\n",
              "    response: {\n",
              "      action: 'complete',\n",
              "    }\n",
              "  };\n",
              "}\n",
              "\n",
              "scope.google = scope.google || {};\n",
              "scope.google.colab = scope.google.colab || {};\n",
              "scope.google.colab._files = {\n",
              "  _uploadFiles,\n",
              "  _uploadFilesContinue,\n",
              "};\n",
              "})(self);\n",
              "</script> "
            ]
          },
          "metadata": {}
        },
        {
          "output_type": "stream",
          "name": "stdout",
          "text": [
            "Saving dataset1.csv to dataset1 (1).csv\n"
          ]
        }
      ]
    },
    {
      "cell_type": "code",
      "source": [
        "file_path = next(iter(uploaded))"
      ],
      "metadata": {
        "id": "gn_UMnRJfNsl"
      },
      "execution_count": 15,
      "outputs": []
    },
    {
      "cell_type": "code",
      "source": [
        "\n",
        "from google.colab import files\n",
        "import json\n",
        "import xml.etree.ElementTree as ET"
      ],
      "metadata": {
        "id": "jFol8hXke4N2"
      },
      "execution_count": 14,
      "outputs": []
    },
    {
      "cell_type": "code",
      "source": [
        "import pandas as pd\n",
        "\n",
        "# Use the exact filename you found from the directory listing\n",
        "df = pd.read_csv('dataset1 (1).csv')\n",
        "\n",
        "# Display the DataFrame to confirm it's loaded correctly\n",
        "print(\"Dataset loaded successfully:\")\n",
        "print(df.head())\n"
      ],
      "metadata": {
        "colab": {
          "base_uri": "https://localhost:8080/"
        },
        "id": "z3wKflv1dhL8",
        "outputId": "e828c7a3-d1ac-47b5-f56a-d3aa92281a06"
      },
      "execution_count": 8,
      "outputs": [
        {
          "output_type": "stream",
          "name": "stdout",
          "text": [
            "Dataset loaded successfully:\n",
            "   rNo Patient_Id         DOB Fever Cough  Cold Other Symptoms       City  \\\n",
            "0    1     COVID1  11-05-1985  High   Low  High      Body Ache     Mumbai   \n",
            "1    2     COVID2  12-05-1947   Mid   Low   Mid      Shivering  Bengaluru   \n",
            "2    3     COVID3  13-05-1999   Low   Mid   Low      Head Ache    Chennai   \n",
            "3    4     COVID4  14-05-1985  High  High   Low         Nausea    Kolkata   \n",
            "4    5     COVID5  15-05-1984   Mid   Mid  High       Sickness  Hyderabad   \n",
            "\n",
            "         State Country  Pincode         Time Period  \n",
            "0  Maharashtra   India   400001             Morning  \n",
            "1    Karnataka   India   560001           Afternoon  \n",
            "2   Tamil Nadu   India   600001  Throughout the day  \n",
            "3  West Bengal   India   700001             Evening  \n",
            "4    Telangana   India   500001               Night  \n"
          ]
        }
      ]
    },
    {
      "cell_type": "code",
      "source": [
        "\n",
        "# Step 2: Create a dictionary to store symptoms and attributes\n",
        "symptom_dict = {}\n",
        "\n",
        "# Iterating over the DataFrame to extract symptoms and their attributes\n",
        "for index, row in df.iterrows():\n",
        "    patient_id = row['Patient_Id']\n",
        "\n",
        "    # Adding symptoms to the dictionary\n",
        "    symptom_dict[patient_id] = {\n",
        "        'Fever': row['Fever'],\n",
        "        'Cough': row['Cough'],\n",
        "        'Cold': row['Cold'],\n",
        "        'Other Symptoms': row['Other Symptoms'],\n",
        "        'City': row['City'],\n",
        "        'State': row['State'],\n",
        "        'Country': row['Country'],\n",
        "        'Pincode': row['Pincode'],\n",
        "        'Time Period': row['Time Period']\n",
        "    }\n",
        "\n",
        "# Dictionary in memory for reference\n",
        "print(\"Dictionary created from dataset:\")\n",
        "print(symptom_dict)\n"
      ],
      "metadata": {
        "colab": {
          "base_uri": "https://localhost:8080/"
        },
        "id": "JEKHlI_Wd7zE",
        "outputId": "846e1fea-0df7-48ad-efd1-fb2be001701e"
      },
      "execution_count": 9,
      "outputs": [
        {
          "output_type": "stream",
          "name": "stdout",
          "text": [
            "Dictionary created from dataset:\n",
            "{'COVID1': {'Fever': 'High', 'Cough': 'Low', 'Cold': 'High', 'Other Symptoms': 'Body Ache', 'City': 'Mumbai', 'State': 'Maharashtra', 'Country': 'India', 'Pincode': 400001, 'Time Period': 'Morning'}, 'COVID2': {'Fever': 'Mid', 'Cough': 'Low', 'Cold': 'Mid', 'Other Symptoms': 'Shivering', 'City': 'Bengaluru', 'State': 'Karnataka', 'Country': 'India', 'Pincode': 560001, 'Time Period': 'Afternoon'}, 'COVID3': {'Fever': 'Low', 'Cough': 'Mid', 'Cold': 'Low', 'Other Symptoms': 'Head Ache', 'City': 'Chennai', 'State': 'Tamil Nadu', 'Country': 'India', 'Pincode': 600001, 'Time Period': 'Throughout the day'}, 'COVID4': {'Fever': 'High', 'Cough': 'High', 'Cold': 'Low', 'Other Symptoms': 'Nausea', 'City': 'Kolkata', 'State': 'West Bengal', 'Country': 'India', 'Pincode': 700001, 'Time Period': 'Evening'}, 'COVID5': {'Fever': 'Mid', 'Cough': 'Mid', 'Cold': 'High', 'Other Symptoms': 'Sickness', 'City': 'Hyderabad', 'State': 'Telangana', 'Country': 'India', 'Pincode': 500001, 'Time Period': 'Night'}, 'COVID6': {'Fever': 'High', 'Cough': 'Low', 'Cold': 'Low', 'Other Symptoms': 'Vertigo', 'City': 'Pune', 'State': 'Maharashtra', 'Country': 'India', 'Pincode': 411001, 'Time Period': 'Morning'}, 'COVID7': {'Fever': 'Mid', 'Cough': 'Low', 'Cold': 'Mid', 'Other Symptoms': 'Head Ache', 'City': 'Jaipur', 'State': 'Rajasthan', 'Country': 'India', 'Pincode': 302001, 'Time Period': 'Afternoon'}, 'COVID8': {'Fever': 'Low', 'Cough': 'Mid', 'Cold': 'High', 'Other Symptoms': 'Nausea', 'City': 'Lucknow', 'State': 'Uttar Pradesh', 'Country': 'India', 'Pincode': 226001, 'Time Period': 'Throughout the day'}, 'COVID9': {'Fever': 'Mid', 'Cough': 'High', 'Cold': 'High', 'Other Symptoms': 'Sickness', 'City': 'Ahmedabad', 'State': 'Gujarat', 'Country': 'India', 'Pincode': 380001, 'Time Period': 'Evening'}, 'COVID10': {'Fever': 'Low', 'Cough': 'Low', 'Cold': 'Low', 'Other Symptoms': 'Vertigo, Nausea', 'City': 'Delhi', 'State': 'Delhi', 'Country': 'India', 'Pincode': 110001, 'Time Period': 'Night'}}\n"
          ]
        }
      ]
    },
    {
      "cell_type": "markdown",
      "source": [
        "Step 2: Print the Loss (Columns Not Found)\n",
        "You can check if all columns are found and report any missing data."
      ],
      "metadata": {
        "id": "RTZWngUieGGa"
      }
    },
    {
      "cell_type": "code",
      "source": [
        "# Step 3: Checking for missing columns (loss)\n",
        "expected_columns = ['rNo', 'Patient_Id', 'DOB', 'Fever', 'Cough', 'Cold', 'Other Symptoms', 'City', 'State', 'Country', 'Pincode', 'Time Period']\n",
        "missing_columns = [col for col in expected_columns if col not in df.columns]\n",
        "\n",
        "if missing_columns:\n",
        "    print(f\"Missing columns: {missing_columns}\")\n",
        "else:\n",
        "    print(\"No columns missing. All columns are present.\")\n"
      ],
      "metadata": {
        "colab": {
          "base_uri": "https://localhost:8080/"
        },
        "id": "W-8oQvzVeC5Q",
        "outputId": "8c012f45-2d55-440c-b060-7c5436849445"
      },
      "execution_count": 10,
      "outputs": [
        {
          "output_type": "stream",
          "name": "stdout",
          "text": [
            "No columns missing. All columns are present.\n"
          ]
        }
      ]
    },
    {
      "cell_type": "markdown",
      "source": [
        "Step 3: Enhance the Dictionary with New Data\n",
        "We will read the dataset again and update the dictionary if any new symptoms or information are found in the dataset.\n"
      ],
      "metadata": {
        "id": "F0PvJT2geL3Z"
      }
    },
    {
      "cell_type": "code",
      "source": [
        "# Step 4: Enhance the dictionary with new symptoms found in 'Other Symptoms'\n",
        "for index, row in df.iterrows():\n",
        "    patient_id = row['Patient_Id']\n",
        "\n",
        "    if patient_id in symptom_dict:\n",
        "        # Enhance dictionary with any new symptoms from \"Other Symptoms\" column\n",
        "        new_symptom = row['Other Symptoms']\n",
        "        if new_symptom not in symptom_dict[patient_id].values():\n",
        "            symptom_dict[patient_id]['Other Symptoms'] += f\", {new_symptom}\"\n",
        "\n",
        "print(\"Enhanced dictionary:\")\n",
        "print(symptom_dict)\n"
      ],
      "metadata": {
        "colab": {
          "base_uri": "https://localhost:8080/"
        },
        "id": "uBuVfotTePrE",
        "outputId": "3f3981e5-4c9c-4b6e-dbba-99378f441827"
      },
      "execution_count": 11,
      "outputs": [
        {
          "output_type": "stream",
          "name": "stdout",
          "text": [
            "Enhanced dictionary:\n",
            "{'COVID1': {'Fever': 'High', 'Cough': 'Low', 'Cold': 'High', 'Other Symptoms': 'Body Ache', 'City': 'Mumbai', 'State': 'Maharashtra', 'Country': 'India', 'Pincode': 400001, 'Time Period': 'Morning'}, 'COVID2': {'Fever': 'Mid', 'Cough': 'Low', 'Cold': 'Mid', 'Other Symptoms': 'Shivering', 'City': 'Bengaluru', 'State': 'Karnataka', 'Country': 'India', 'Pincode': 560001, 'Time Period': 'Afternoon'}, 'COVID3': {'Fever': 'Low', 'Cough': 'Mid', 'Cold': 'Low', 'Other Symptoms': 'Head Ache', 'City': 'Chennai', 'State': 'Tamil Nadu', 'Country': 'India', 'Pincode': 600001, 'Time Period': 'Throughout the day'}, 'COVID4': {'Fever': 'High', 'Cough': 'High', 'Cold': 'Low', 'Other Symptoms': 'Nausea', 'City': 'Kolkata', 'State': 'West Bengal', 'Country': 'India', 'Pincode': 700001, 'Time Period': 'Evening'}, 'COVID5': {'Fever': 'Mid', 'Cough': 'Mid', 'Cold': 'High', 'Other Symptoms': 'Sickness', 'City': 'Hyderabad', 'State': 'Telangana', 'Country': 'India', 'Pincode': 500001, 'Time Period': 'Night'}, 'COVID6': {'Fever': 'High', 'Cough': 'Low', 'Cold': 'Low', 'Other Symptoms': 'Vertigo', 'City': 'Pune', 'State': 'Maharashtra', 'Country': 'India', 'Pincode': 411001, 'Time Period': 'Morning'}, 'COVID7': {'Fever': 'Mid', 'Cough': 'Low', 'Cold': 'Mid', 'Other Symptoms': 'Head Ache', 'City': 'Jaipur', 'State': 'Rajasthan', 'Country': 'India', 'Pincode': 302001, 'Time Period': 'Afternoon'}, 'COVID8': {'Fever': 'Low', 'Cough': 'Mid', 'Cold': 'High', 'Other Symptoms': 'Nausea', 'City': 'Lucknow', 'State': 'Uttar Pradesh', 'Country': 'India', 'Pincode': 226001, 'Time Period': 'Throughout the day'}, 'COVID9': {'Fever': 'Mid', 'Cough': 'High', 'Cold': 'High', 'Other Symptoms': 'Sickness', 'City': 'Ahmedabad', 'State': 'Gujarat', 'Country': 'India', 'Pincode': 380001, 'Time Period': 'Evening'}, 'COVID10': {'Fever': 'Low', 'Cough': 'Low', 'Cold': 'Low', 'Other Symptoms': 'Vertigo, Nausea', 'City': 'Delhi', 'State': 'Delhi', 'Country': 'India', 'Pincode': 110001, 'Time Period': 'Night'}}\n"
          ]
        }
      ]
    },
    {
      "cell_type": "markdown",
      "source": [
        "Step 4: Attach Attributes and Ensure Loss of Attributes is 0\n",
        "We'll define attributes and ensure no attributes are missing."
      ],
      "metadata": {
        "id": "_mEaJUX4eS5g"
      }
    },
    {
      "cell_type": "code",
      "source": [
        "# Step 5: Attach attributes (e.g., severity levels)\n",
        "for patient_id in symptom_dict:\n",
        "    symptom_dict[patient_id]['Fever Severity'] = symptom_dict[patient_id]['Fever']  # Example of attaching attribute\n",
        "    symptom_dict[patient_id]['Cough Severity'] = symptom_dict[patient_id]['Cough']\n",
        "\n",
        "# Ensure no loss of attributes (all columns are accounted for)\n",
        "attributes_missing = any(col not in symptom_dict[patient_id] for col in ['Fever Severity', 'Cough Severity'])\n",
        "\n",
        "if not attributes_missing:\n",
        "    print(\"No attribute loss. All symptoms have attached attributes.\")\n",
        "else:\n",
        "    print(\"Some attributes are missing.\")\n"
      ],
      "metadata": {
        "colab": {
          "base_uri": "https://localhost:8080/"
        },
        "id": "8jyjDq41eXJG",
        "outputId": "b58a4268-cdb6-4447-9adc-fd79a2805607"
      },
      "execution_count": 12,
      "outputs": [
        {
          "output_type": "stream",
          "name": "stdout",
          "text": [
            "No attribute loss. All symptoms have attached attributes.\n"
          ]
        }
      ]
    },
    {
      "cell_type": "markdown",
      "source": [
        "Step 5: Make the Parser Able to Read Multiple Formats (CSV, TSV, JSON, XML)\n",
        "Extend the parser to handle multiple file formats using appropriate libraries."
      ],
      "metadata": {
        "id": "YYyhNQM3eeXX"
      }
    },
    {
      "cell_type": "code",
      "source": [
        "def read_file(file_path):\n",
        "    if file_path.endswith('.csv'):\n",
        "        return pd.read_csv(file_path)\n",
        "    elif file_path.endswith('.tsv'):\n",
        "        return pd.read_csv(file_path, delimiter='\\t')\n",
        "    elif file_path.endswith('.json'):\n",
        "        return pd.read_json(file_path)\n",
        "    elif file_path.endswith('.xml'):\n",
        "        tree = ET.parse(file_path)\n",
        "        root = tree.getroot()\n",
        "        data = []\n",
        "        for child in root:\n",
        "            row_data = {}\n",
        "            for sub_child in child:\n",
        "                row_data[sub_child.tag] = sub_child.text\n",
        "            data.append(row_data)\n",
        "        return pd.DataFrame(data)\n",
        "    else:\n",
        "        raise ValueError(\"Unsupported file format\")"
      ],
      "metadata": {
        "id": "1jxTyeObebdA"
      },
      "execution_count": 16,
      "outputs": []
    },
    {
      "cell_type": "markdown",
      "source": [
        "Step 6: Dump the Dictionary to a File and Allow Manual Editing\n",
        "This allows dumping the dictionary and reloading it after manual editing."
      ],
      "metadata": {
        "id": "9WehwFKlfgUS"
      }
    },
    {
      "cell_type": "code",
      "source": [
        "import json\n",
        "\n",
        "# Step 6: Dump the dictionary to a JSON file\n",
        "with open('symptom_dict.json', 'w') as json_file:\n",
        "    json.dump(symptom_dict, json_file, indent=4)\n",
        "\n",
        "# Step 7: Reload and reparse the dictionary\n",
        "with open('symptom_dict.json', 'r') as json_file:\n",
        "    loaded_dict = json.load(json_file)\n",
        "\n",
        "print(\"Loaded dictionary from file:\")\n",
        "print(loaded_dict)\n"
      ],
      "metadata": {
        "colab": {
          "base_uri": "https://localhost:8080/"
        },
        "id": "yo6_WSyLfhIx",
        "outputId": "d21ab7d4-a8f5-44cb-f4ee-6afe9e7c5174"
      },
      "execution_count": 17,
      "outputs": [
        {
          "output_type": "stream",
          "name": "stdout",
          "text": [
            "Loaded dictionary from file:\n",
            "{'COVID1': {'Fever': 'High', 'Cough': 'Low', 'Cold': 'High', 'Other Symptoms': 'Body Ache', 'City': 'Mumbai', 'State': 'Maharashtra', 'Country': 'India', 'Pincode': 400001, 'Time Period': 'Morning', 'Fever Severity': 'High', 'Cough Severity': 'Low'}, 'COVID2': {'Fever': 'Mid', 'Cough': 'Low', 'Cold': 'Mid', 'Other Symptoms': 'Shivering', 'City': 'Bengaluru', 'State': 'Karnataka', 'Country': 'India', 'Pincode': 560001, 'Time Period': 'Afternoon', 'Fever Severity': 'Mid', 'Cough Severity': 'Low'}, 'COVID3': {'Fever': 'Low', 'Cough': 'Mid', 'Cold': 'Low', 'Other Symptoms': 'Head Ache', 'City': 'Chennai', 'State': 'Tamil Nadu', 'Country': 'India', 'Pincode': 600001, 'Time Period': 'Throughout the day', 'Fever Severity': 'Low', 'Cough Severity': 'Mid'}, 'COVID4': {'Fever': 'High', 'Cough': 'High', 'Cold': 'Low', 'Other Symptoms': 'Nausea', 'City': 'Kolkata', 'State': 'West Bengal', 'Country': 'India', 'Pincode': 700001, 'Time Period': 'Evening', 'Fever Severity': 'High', 'Cough Severity': 'High'}, 'COVID5': {'Fever': 'Mid', 'Cough': 'Mid', 'Cold': 'High', 'Other Symptoms': 'Sickness', 'City': 'Hyderabad', 'State': 'Telangana', 'Country': 'India', 'Pincode': 500001, 'Time Period': 'Night', 'Fever Severity': 'Mid', 'Cough Severity': 'Mid'}, 'COVID6': {'Fever': 'High', 'Cough': 'Low', 'Cold': 'Low', 'Other Symptoms': 'Vertigo', 'City': 'Pune', 'State': 'Maharashtra', 'Country': 'India', 'Pincode': 411001, 'Time Period': 'Morning', 'Fever Severity': 'High', 'Cough Severity': 'Low'}, 'COVID7': {'Fever': 'Mid', 'Cough': 'Low', 'Cold': 'Mid', 'Other Symptoms': 'Head Ache', 'City': 'Jaipur', 'State': 'Rajasthan', 'Country': 'India', 'Pincode': 302001, 'Time Period': 'Afternoon', 'Fever Severity': 'Mid', 'Cough Severity': 'Low'}, 'COVID8': {'Fever': 'Low', 'Cough': 'Mid', 'Cold': 'High', 'Other Symptoms': 'Nausea', 'City': 'Lucknow', 'State': 'Uttar Pradesh', 'Country': 'India', 'Pincode': 226001, 'Time Period': 'Throughout the day', 'Fever Severity': 'Low', 'Cough Severity': 'Mid'}, 'COVID9': {'Fever': 'Mid', 'Cough': 'High', 'Cold': 'High', 'Other Symptoms': 'Sickness', 'City': 'Ahmedabad', 'State': 'Gujarat', 'Country': 'India', 'Pincode': 380001, 'Time Period': 'Evening', 'Fever Severity': 'Mid', 'Cough Severity': 'High'}, 'COVID10': {'Fever': 'Low', 'Cough': 'Low', 'Cold': 'Low', 'Other Symptoms': 'Vertigo, Nausea', 'City': 'Delhi', 'State': 'Delhi', 'Country': 'India', 'Pincode': 110001, 'Time Period': 'Night', 'Fever Severity': 'Low', 'Cough Severity': 'Low'}}\n"
          ]
        }
      ]
    },
    {
      "cell_type": "markdown",
      "source": [
        "Step 7: Visualize Data Using Graphs\n",
        "Construct and display graphs to visualize symptom frequency, severity distribution, and patient demographics using **Matplotlib** and **Seaborn**."
      ],
      "metadata": {
        "id": "Grk8RpJriE7c"
      }
    },
    {
      "cell_type": "code",
      "source": [
        "import matplotlib.pyplot as plt\n",
        "import seaborn as sns\n",
        "\n",
        "# Example 1: Bar chart for Fever severity distribution\n",
        "plt.figure(figsize=(8, 6))\n",
        "sns.countplot(x='Fever', data=df)\n",
        "plt.title('Fever Severity Distribution')\n",
        "plt.xlabel('Fever Severity')\n",
        "plt.ylabel('Number of Patients')\n",
        "plt.show()\n",
        "\n",
        "# Example 2: Bar chart for patient distribution by city\n",
        "plt.figure(figsize=(10, 6))\n",
        "sns.countplot(x='City', data=df)\n",
        "plt.title('Patient Distribution by City')\n",
        "plt.xlabel('City')\n",
        "plt.ylabel('Number of Patients')\n",
        "plt.xticks(rotation=45)\n",
        "plt.show()\n",
        "\n",
        "# Example 3: Pie chart for symptom distribution (Fever, Cough, Cold)\n",
        "symptom_counts = df[['Fever', 'Cough', 'Cold']].apply(pd.Series.value_counts).sum(axis=1)\n",
        "plt.figure(figsize=(7, 7))\n",
        "plt.pie(symptom_counts, labels=symptom_counts.index, autopct='%1.1f%%', startangle=140)\n",
        "plt.title('Symptom Distribution')\n",
        "plt.show()\n"
      ],
      "metadata": {
        "colab": {
          "base_uri": "https://localhost:8080/",
          "height": 1000
        },
        "id": "QlB-E9w2hUj8",
        "outputId": "146fa352-07b7-46c2-8179-2ee3f28242f6"
      },
      "execution_count": 20,
      "outputs": [
        {
          "output_type": "display_data",
          "data": {
            "text/plain": [
              "<Figure size 800x600 with 1 Axes>"
            ],
            "image/png": "[encoded data removed]"
          },
          "metadata": {}
        },
        {
          "output_type": "display_data",
          "data": {
            "text/plain": [
              "<Figure size 1000x600 with 1 Axes>"
            ],
            "image/png": "[encoded data removed]"
          },
          "metadata": {}
        },
        {
          "output_type": "display_data",
          "data": {
            "text/plain": [
              "<Figure size 700x700 with 1 Axes>"
            ],
            "image/png": "[encoded data removed]"
          },
          "metadata": {}
        }
      ]
    }
  ]
}